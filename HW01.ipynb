{
 "cells": [
  {
   "cell_type": "markdown",
   "metadata": {},
   "source": [
    "# [Homework 1: Control](https://inst.eecs.berkeley.edu/~cs61a/fa18/hw/hw01/)"
   ]
  },
  {
   "cell_type": "markdown",
   "metadata": {},
   "source": [
    "##### Q1: A Plus Abs B\n",
    "Fill in the blanks in the following function for adding a to the absolute value of b, without calling abs."
   ]
  },
  {
   "cell_type": "code",
   "execution_count": 1,
   "metadata": {},
   "outputs": [],
   "source": [
    "from operator import add, sub"
   ]
  },
  {
   "cell_type": "code",
   "execution_count": 2,
   "metadata": {},
   "outputs": [],
   "source": [
    "def a_plus_abs_b(a, b):\n",
    "    \"\"\"Return a+abs(b), but without calling abs.\n",
    "\n",
    "    >>> a_plus_abs_b(2, 3)\n",
    "    5\n",
    "    >>> a_plus_abs_b(2, -3)\n",
    "    5\n",
    "    \"\"\"\n",
    "    if b < 0:\n",
    "        f = add(a,-b)\n",
    "    else:\n",
    "        f = add(a, b)\n",
    "    return f"
   ]
  },
  {
   "cell_type": "code",
   "execution_count": 3,
   "metadata": {},
   "outputs": [
    {
     "data": {
      "text/plain": [
       "5"
      ]
     },
     "execution_count": 3,
     "metadata": {},
     "output_type": "execute_result"
    }
   ],
   "source": [
    "a_plus_abs_b(2,3)"
   ]
  },
  {
   "cell_type": "markdown",
   "metadata": {},
   "source": [
    "##### Q2: Two of Three\n",
    "Write a function that takes three positive numbers and returns the sum of the squares of the two largest numbers. Use only a single line for the body of the function."
   ]
  },
  {
   "cell_type": "code",
   "execution_count": 4,
   "metadata": {},
   "outputs": [],
   "source": [
    "def two_of_three(a, b, c):\n",
    "    \"\"\"Return x*x + y*y, where x and y are the two largest members of the\n",
    "    positive numbers a, b, and c.\n",
    "    \n",
    "    (x+y)**2=x**2+Y**2+2XY\n",
    "\n",
    "    >>> two_of_three(1, 2, 3)\n",
    "    13\n",
    "    >>> two_of_three(5, 3, 1)\n",
    "    34\n",
    "    >>> two_of_three(10, 2, 8)\n",
    "    164\n",
    "    >>> two_of_three(5, 5, 5)\n",
    "    50\n",
    "    \n",
    "    \"\"\"\n",
    "    \n",
    "\n",
    "    return (((a+b+c)-min(a,b,c))**2)-(2*(a*b*c/min(a,b,c)))"
   ]
  },
  {
   "cell_type": "code",
   "execution_count": 5,
   "metadata": {},
   "outputs": [
    {
     "data": {
      "text/plain": [
       "164.0"
      ]
     },
     "execution_count": 5,
     "metadata": {},
     "output_type": "execute_result"
    }
   ],
   "source": [
    "two_of_three(10, 2, 8)"
   ]
  },
  {
   "cell_type": "markdown",
   "metadata": {},
   "source": [
    "##### Q3: Largest Factor\n",
    "Write a function that takes an integer n that is greater than 1 and returns the largest integer that is smaller than n and evenly divides n."
   ]
  },
  {
   "cell_type": "code",
   "execution_count": 9,
   "metadata": {},
   "outputs": [],
   "source": [
    "def largest_factor(n):\n",
    "    \"\"\"Return the largest factor of n that is smaller than n.\n",
    "\n",
    "    >>> largest_factor(15) # factors are 1, 3, 5\n",
    "    5\n",
    "    >>> largest_factor(80) # factors are 1, 2, 4, 5, 8, 10, 16, 20, 40\n",
    "    40\n",
    "    >>> largest_factor(13) # factor is 1 since 13 is prime\n",
    "    1\n",
    "    \"\"\"\n",
    "    \"*** YOUR CODE HERE ***\"\n",
    "    res =1\n",
    "    i =1\n",
    "    while i<=n/2 :\n",
    "        if n%i==0 :\n",
    "            res = i\n",
    "        i += 1\n",
    "\n",
    "    return res"
   ]
  },
  {
   "cell_type": "code",
   "execution_count": 10,
   "metadata": {},
   "outputs": [
    {
     "data": {
      "text/plain": [
       "40"
      ]
     },
     "execution_count": 10,
     "metadata": {},
     "output_type": "execute_result"
    }
   ],
   "source": [
    "largest_factor(80)"
   ]
  },
  {
   "cell_type": "markdown",
   "metadata": {},
   "source": [
    "##### Q4: If Function vs Statement\n",
    "Let's try to write a function that does the same thing as an if statement."
   ]
  },
  {
   "cell_type": "code",
   "execution_count": 1,
   "metadata": {},
   "outputs": [],
   "source": [
    "def if_function(condition, true_result, false_result):\n",
    "    \"\"\"Return true_result if condition is a true value, and\n",
    "    false_result otherwise.\n",
    "\n",
    "    >>> if_function(True, 2, 3)\n",
    "    2\n",
    "    >>> if_function(False, 2, 3)\n",
    "    3\n",
    "    >>> if_function(3==2, 3+2, 3-2)\n",
    "    1\n",
    "    >>> if_function(3>2, 3+2, 3-2)\n",
    "    5\n",
    "    \"\"\"\n",
    "    if condition:\n",
    "        return true_result\n",
    "    else:\n",
    "        return false_result"
   ]
  },
  {
   "cell_type": "code",
   "execution_count": null,
   "metadata": {},
   "outputs": [],
   "source": [
    "if_function(2==3,3+2,3-2)"
   ]
  },
  {
   "cell_type": "code",
   "execution_count": 2,
   "metadata": {},
   "outputs": [],
   "source": [
    "def with_if_statement():\n",
    "    \"\"\"\n",
    "    >>> result = with_if_statement()\n",
    "    2\n",
    "    >>> print(result)\n",
    "    None\n",
    "    \"\"\"\n",
    "    if c():\n",
    "        return t()\n",
    "    else:\n",
    "        return f()"
   ]
  },
  {
   "cell_type": "code",
   "execution_count": 3,
   "metadata": {},
   "outputs": [],
   "source": [
    "def with_if_function():\n",
    "    \"\"\"\n",
    "    >>> result = with_if_function()\n",
    "    1\n",
    "    2\n",
    "    >>> print(result)\n",
    "    None\n",
    "    \"\"\"\n",
    "    return if_function(c(), t(), f())"
   ]
  },
  {
   "cell_type": "code",
   "execution_count": 6,
   "metadata": {},
   "outputs": [],
   "source": [
    "def c():\n",
    "    \"*** YOUR CODE HERE ***\"\n",
    "    print(1)\n",
    "    return False\n",
    "\n",
    "\n",
    "def t():\n",
    "    \"*** YOUR CODE HERE ***\"\n",
    "    return 1\n",
    "\n",
    "\n",
    "def f():\n",
    "    \"*** YOUR CODE HERE ***\"\n",
    "    return 2\n"
   ]
  },
  {
   "cell_type": "code",
   "execution_count": 7,
   "metadata": {},
   "outputs": [
    {
     "name": "stdout",
     "output_type": "stream",
     "text": [
      "1\n"
     ]
    },
    {
     "data": {
      "text/plain": [
       "2"
      ]
     },
     "execution_count": 7,
     "metadata": {},
     "output_type": "execute_result"
    }
   ],
   "source": [
    "with_if_function()"
   ]
  },
  {
   "cell_type": "code",
   "execution_count": 8,
   "metadata": {},
   "outputs": [
    {
     "name": "stdout",
     "output_type": "stream",
     "text": [
      "1\n"
     ]
    },
    {
     "data": {
      "text/plain": [
       "2"
      ]
     },
     "execution_count": 8,
     "metadata": {},
     "output_type": "execute_result"
    }
   ],
   "source": [
    "with_if_statement()"
   ]
  },
  {
   "cell_type": "markdown",
   "metadata": {},
   "source": [
    "##### Q5: Hailstone\n",
    "Douglas Hofstadter's Pulitzer-prize-winning book, Gödel, Escher, Bach, poses the following mathematical puzzle.\n",
    "\n",
    "Pick a positive integer n as the start.\n",
    "If n is even, divide it by 2.\n",
    "If n is odd, multiply it by 3 and add 1.\n",
    "Continue this process until n is 1.\n",
    "The number n will travel up and down but eventually end at 1 (at least for all numbers that have ever been tried -- nobody has ever proved that the sequence will terminate). Analogously, a hailstone travels up and down in the atmosphere before eventually landing on earth.\n",
    "\n",
    "This sequence of values of n is often called a Hailstone sequence. Write a function that takes a single argument with formal parameter name n, prints out the hailstone sequence starting at n, and returns the number of steps in the sequence:"
   ]
  },
  {
   "cell_type": "code",
   "execution_count": 12,
   "metadata": {},
   "outputs": [],
   "source": [
    "def hailstone(n):\n",
    "    \"\"\"Print the hailstone sequence starting at n and return its\n",
    "    length.\n",
    "\n",
    "    >>> a = hailstone(10)\n",
    "    10\n",
    "    5\n",
    "    16\n",
    "    8\n",
    "    4\n",
    "    2\n",
    "    1\n",
    "    >>> a\n",
    "    7\n",
    "    \"\"\"\n",
    "    \"*** YOUR CODE HERE ***\"\n",
    "    cnt =0\n",
    "    while True:\n",
    "        print(n)\n",
    "        cnt +=1\n",
    "        if n ==1:\n",
    "            break\n",
    "\n",
    "        if n%2 ==0:\n",
    "            n=n//2\n",
    "        else:\n",
    "            n= (n*3)+1\n",
    "            \n",
    "\n",
    "        \n",
    "    return cnt"
   ]
  },
  {
   "cell_type": "code",
   "execution_count": 13,
   "metadata": {},
   "outputs": [
    {
     "name": "stdout",
     "output_type": "stream",
     "text": [
      "10\n",
      "5\n",
      "16\n",
      "8\n",
      "4\n",
      "2\n",
      "1\n"
     ]
    },
    {
     "data": {
      "text/plain": [
       "7"
      ]
     },
     "execution_count": 13,
     "metadata": {},
     "output_type": "execute_result"
    }
   ],
   "source": [
    "hailstone(10)"
   ]
  },
  {
   "cell_type": "code",
   "execution_count": null,
   "metadata": {},
   "outputs": [],
   "source": [
    "while 0:\n",
    "    print(12)"
   ]
  },
  {
   "cell_type": "code",
   "execution_count": null,
   "metadata": {},
   "outputs": [],
   "source": [
    ">>> x = -9\n",
    ">>> y = -12\n",
    ">>> while y: # If this loops forever, just type Infinite Loop\n",
    "...    if x:\n",
    "...        print(y)\n",
    "...    y += 3\n",
    "...    x += 3\n"
   ]
  }
 ],
 "metadata": {
  "kernelspec": {
   "display_name": "Python 3",
   "language": "python",
   "name": "python3"
  },
  "language_info": {
   "codemirror_mode": {
    "name": "ipython",
    "version": 3
   },
   "file_extension": ".py",
   "mimetype": "text/x-python",
   "name": "python",
   "nbconvert_exporter": "python",
   "pygments_lexer": "ipython3",
   "version": "3.6.5"
  }
 },
 "nbformat": 4,
 "nbformat_minor": 2
}
