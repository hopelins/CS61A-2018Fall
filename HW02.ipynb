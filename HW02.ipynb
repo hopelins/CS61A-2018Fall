{
 "cells": [
  {
   "cell_type": "markdown",
   "metadata": {},
   "source": [
    "### Required questions\n",
    "Several doctests refer to these functions:"
   ]
  },
  {
   "cell_type": "code",
   "execution_count": 1,
   "metadata": {},
   "outputs": [],
   "source": [
    "from operator import add, mul, sub\n",
    "\n",
    "square = lambda x: x * x\n",
    "\n",
    "identity = lambda x: x\n",
    "\n",
    "triple = lambda x: 3 * x\n",
    "\n",
    "increment = lambda x: x + 1"
   ]
  },
  {
   "cell_type": "markdown",
   "metadata": {},
   "source": [
    "##### Q1: Make Adder with a Lambda\n",
    "Implement the make_adder function, which takes in a number n and returns a function that takes in an another number k and returns n + k. Your solution must consist of a single return statement."
   ]
  },
  {
   "cell_type": "code",
   "execution_count": 4,
   "metadata": {},
   "outputs": [],
   "source": [
    "def make_adder(n):\n",
    "    \"\"\"Return a function that takes an argument K and returns N + K.\n",
    "\n",
    "    >>> add_three = make_adder(3)\n",
    "    >>> add_three(1) + add_three(2)\n",
    "    9\n",
    "    >>> make_adder(1)(2)\n",
    "    3\n",
    "    \"\"\"\n",
    "    return lambda k:n+k"
   ]
  },
  {
   "cell_type": "markdown",
   "metadata": {},
   "source": [
    "##### Q2: Product\n",
    "The summation(n, term) function from the higher-order functions lecture adds up term(1) + ... + term(n). Write a similar function called product that returns term(1) * ... * term(n). Do not use recursion."
   ]
  },
  {
   "cell_type": "code",
   "execution_count": 22,
   "metadata": {},
   "outputs": [],
   "source": [
    "def product(n, term):\n",
    "    \"\"\"Return the product of the first n terms in a sequence.\n",
    "    n    -- a positive integer\n",
    "    term -- a function that takes one argument\n",
    "\n",
    "    >>> product(3, identity)  # 1 * 2 * 3\n",
    "    6\n",
    "    >>> product(5, identity)  # 1 * 2 * 3 * 4 * 5\n",
    "    120\n",
    "    >>> product(3, square)    # 1^2 * 2^2 * 3^2\n",
    "    36\n",
    "    >>> product(5, square)    # 1^2 * 2^2 * 3^2 * 4^2 * 5^2\n",
    "    14400\n",
    "    >>> product(3, increment) # (1+1) * (2+1) * (3+1)\n",
    "    24\n",
    "    >>> product(3, triple)    # 1*3 * 2*3 * 3*3\n",
    "    162\n",
    "    >>> from construct_check import check\n",
    "    >>> check(HW_SOURCE_FILE, 'product', ['Recursion'])\n",
    "    True\n",
    "    \"\"\"\n",
    "    \"*** YOUR CODE HERE ***\"\n",
    "    i =1\n",
    "    res = 1\n",
    "    termin = term\n",
    "    \n",
    "    while i<=n:\n",
    "        print (i,n)\n",
    "        print(\"termin\",i,\":\",termin(i))\n",
    "        res = res* termin(i)\n",
    "        print(\"res :\",res)\n",
    "        print(res)\n",
    "        i +=1\n",
    "    \n",
    "    return res\n",
    "\n",
    "def factorial(n):\n",
    "    \"\"\"Return n factorial for n >= 0 by calling product.\n",
    "\n",
    "    >>> factorial(4)  # 4 * 3 * 2 * 1\n",
    "    24\n",
    "    >>> factorial(6)  # 6 * 5 * 4 * 3 * 2 * 1\n",
    "    720\n",
    "    >>> from construct_check import check\n",
    "    >>> check(HW_SOURCE_FILE, 'factorial', ['Recursion', 'For', 'While'])\n",
    "    True\n",
    "    \"\"\"\n",
    "    \"*** YOUR CODE HERE ***\"\n",
    "    return product(n,identity)\n"
   ]
  },
  {
   "cell_type": "code",
   "execution_count": 23,
   "metadata": {},
   "outputs": [
    {
     "name": "stdout",
     "output_type": "stream",
     "text": [
      "1 3\n",
      "termin 1 : 1\n",
      "res : 1\n",
      "1\n",
      "2 3\n",
      "termin 2 : 2\n",
      "res : 2\n",
      "2\n",
      "3 3\n",
      "termin 3 : 3\n",
      "res : 6\n",
      "6\n"
     ]
    },
    {
     "data": {
      "text/plain": [
       "6"
      ]
     },
     "execution_count": 23,
     "metadata": {},
     "output_type": "execute_result"
    }
   ],
   "source": [
    "product(3,identity)"
   ]
  },
  {
   "cell_type": "code",
   "execution_count": 24,
   "metadata": {},
   "outputs": [
    {
     "name": "stdout",
     "output_type": "stream",
     "text": [
      "1 4\n",
      "termin 1 : 1\n",
      "res : 1\n",
      "1\n",
      "2 4\n",
      "termin 2 : 2\n",
      "res : 2\n",
      "2\n",
      "3 4\n",
      "termin 3 : 3\n",
      "res : 6\n",
      "6\n",
      "4 4\n",
      "termin 4 : 4\n",
      "res : 24\n",
      "24\n"
     ]
    },
    {
     "data": {
      "text/plain": [
       "24"
      ]
     },
     "execution_count": 24,
     "metadata": {},
     "output_type": "execute_result"
    }
   ],
   "source": [
    "factorial(4)"
   ]
  },
  {
   "cell_type": "markdown",
   "metadata": {},
   "source": [
    "##### Q3: Accumulate\n",
    "Let's take a look at how summation and product are instances of a more general function called accumulate:"
   ]
  },
  {
   "cell_type": "code",
   "execution_count": 35,
   "metadata": {},
   "outputs": [],
   "source": [
    "def accumulate(combiner, base, n, term):\n",
    "    \"\"\"Return the result of combining the first n terms in a sequence and base.\n",
    "    The terms to be combined are term(1), term(2), ..., term(n).  combiner is a\n",
    "    two-argument commutative, associative function.\n",
    "\n",
    "    >>> accumulate(add, 0, 5, identity)  # 0 + 1 + 2 + 3 + 4 + 5\n",
    "    15\n",
    "    >>> accumulate(add, 11, 5, identity) # 11 + 1 + 2 + 3 + 4 + 5\n",
    "    26\n",
    "    >>> accumulate(add, 11, 0, identity) # 11\n",
    "    11\n",
    "    >>> accumulate(add, 11, 3, square)   # 11 + 1^2 + 2^2 + 3^2\n",
    "    25\n",
    "    >>> accumulate(mul, 2, 3, square)    # 2 * 1^2 * 2^2 * 3^2\n",
    "    72\n",
    "    \"\"\"\n",
    "    \"*** YOUR CODE HERE ***\"\n",
    "    \n",
    "    res = base\n",
    "    i =1\n",
    "    \n",
    "    if combiner == add:\n",
    "        while i<=n:\n",
    "            res += term(i)\n",
    "            i+=1\n",
    "    elif combiner ==mul:\n",
    "        while i<=n:\n",
    "            res *= term(i)\n",
    "            i+=1\n",
    "    \n",
    "    else:\n",
    "        return \"no matched combiner\"\n",
    "    \n",
    "    return res        \n",
    "        "
   ]
  },
  {
   "cell_type": "markdown",
   "metadata": {},
   "source": [
    "accumulate has the following parameters:\n",
    "\n",
    "term and n: the same parameters as in summation and product\n",
    "combiner: a two-argument function that specifies how the current term is combined with the previously accumulated terms.\n",
    "base: value at which to start the accumulation.\n",
    "For example, the result of accumulate(add, 11, 3, square) is"
   ]
  },
  {
   "cell_type": "markdown",
   "metadata": {},
   "source": [
    "```\n",
    "11 + square(1) + square(2) + square(3) = 25\n",
    "```"
   ]
  },
  {
   "cell_type": "markdown",
   "metadata": {},
   "source": [
    "You may assume that combiner is associative and commutative.\n",
    "\n",
    "After implementing accumulate, show how summation and product can both be defined as simple calls to accumulate:"
   ]
  },
  {
   "cell_type": "code",
   "execution_count": 38,
   "metadata": {},
   "outputs": [],
   "source": [
    "def summation_using_accumulate(n, term):\n",
    "    \"\"\"Returns the sum of term(1) + ... + term(n). The implementation\n",
    "    uses accumulate.\n",
    "\n",
    "    >>> summation_using_accumulate(5, square)\n",
    "    55\n",
    "    >>> summation_using_accumulate(5, triple)\n",
    "    45\n",
    "    >>> from construct_check import check\n",
    "    >>> check(HW_SOURCE_FILE, 'summation_using_accumulate',\n",
    "    ...       ['Recursion', 'For', 'While'])\n",
    "    True\n",
    "    \"\"\"\n",
    "    \"*** YOUR CODE HERE ***\"\n",
    "    \n",
    "    return accumulate(add,0,n,term)\n",
    "\n",
    "def product_using_accumulate(n, term):\n",
    "    \"\"\"An implementation of product using accumulate.\n",
    "\n",
    "    >>> product_using_accumulate(4, square)\n",
    "    576\n",
    "    >>> product_using_accumulate(6, triple)\n",
    "    524880\n",
    "    >>> from construct_check import check\n",
    "    >>> check(HW_SOURCE_FILE, 'product_using_accumulate',\n",
    "    ...       ['Recursion', 'For', 'While'])\n",
    "    True\n",
    "    \"\"\"\n",
    "    \"*** YOUR CODE HERE ***\"\n",
    "    return accumulate(mul,1,n,term)"
   ]
  },
  {
   "cell_type": "code",
   "execution_count": 30,
   "metadata": {},
   "outputs": [
    {
     "data": {
      "text/plain": [
       "55"
      ]
     },
     "execution_count": 30,
     "metadata": {},
     "output_type": "execute_result"
    }
   ],
   "source": [
    "summation_using_accumulate(5,square)"
   ]
  },
  {
   "cell_type": "code",
   "execution_count": 39,
   "metadata": {},
   "outputs": [
    {
     "data": {
      "text/plain": [
       "576"
      ]
     },
     "execution_count": 39,
     "metadata": {},
     "output_type": "execute_result"
    }
   ],
   "source": [
    "product_using_accumulate(4, square)"
   ]
  },
  {
   "cell_type": "code",
   "execution_count": null,
   "metadata": {},
   "outputs": [],
   "source": []
  },
  {
   "cell_type": "code",
   "execution_count": null,
   "metadata": {},
   "outputs": [],
   "source": []
  },
  {
   "cell_type": "code",
   "execution_count": null,
   "metadata": {},
   "outputs": [],
   "source": []
  },
  {
   "cell_type": "code",
   "execution_count": null,
   "metadata": {},
   "outputs": [],
   "source": []
  }
 ],
 "metadata": {
  "kernelspec": {
   "display_name": "Python 3",
   "language": "python",
   "name": "python3"
  },
  "language_info": {
   "codemirror_mode": {
    "name": "ipython",
    "version": 3
   },
   "file_extension": ".py",
   "mimetype": "text/x-python",
   "name": "python",
   "nbconvert_exporter": "python",
   "pygments_lexer": "ipython3",
   "version": "3.6.5"
  }
 },
 "nbformat": 4,
 "nbformat_minor": 2
}
