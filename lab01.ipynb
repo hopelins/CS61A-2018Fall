{
 "cells": [
  {
   "cell_type": "markdown",
   "metadata": {},
   "source": [
    "# [Lab 1: Functions and Control](https://inst.eecs.berkeley.edu/~cs61a/fa18/lab/lab01/)"
   ]
  },
  {
   "cell_type": "markdown",
   "metadata": {},
   "source": [
    "## Required Questions"
   ]
  },
  {
   "cell_type": "markdown",
   "metadata": {},
   "source": [
    "### What Would Python Display (Part 1)?"
   ]
  },
  {
   "cell_type": "markdown",
   "metadata": {},
   "source": [
    "##### Q1: WWPD: Control"
   ]
  },
  {
   "cell_type": "code",
   "execution_count": 1,
   "metadata": {},
   "outputs": [],
   "source": [
    ">>> def how_big(x):\n",
    "...     if x > 10:\n",
    "...         print('huge')\n",
    "...     elif x > 5:\n",
    "...         return 'big'\n",
    "...     elif x > 0:\n",
    "...         print('small')\n",
    "...     else:\n",
    "...         print(\"nothin'\")\n"
   ]
  },
  {
   "cell_type": "code",
   "execution_count": 2,
   "metadata": {},
   "outputs": [
    {
     "data": {
      "text/plain": [
       "'big'"
      ]
     },
     "execution_count": 2,
     "metadata": {},
     "output_type": "execute_result"
    }
   ],
   "source": [
    "how_big(7)"
   ]
  },
  {
   "cell_type": "markdown",
   "metadata": {},
   "source": [
    "### Coding Practice"
   ]
  },
  {
   "cell_type": "markdown",
   "metadata": {},
   "source": [
    "##### Q3 Fix Bug\n",
    "The following snippet of code doesn't work! Figure out what is wrong and fix the bugs."
   ]
  },
  {
   "cell_type": "code",
   "execution_count": 3,
   "metadata": {},
   "outputs": [],
   "source": [
    "def both_positive(x, y):\n",
    "    \"\"\"Returns True if both x and y are positive.\n",
    "\n",
    "    >>> both_positive(-1, 1)\n",
    "    False\n",
    "    >>> both_positive(1, 1)\n",
    "    True\n",
    "    \"\"\"\n",
    "  # return x and y > 0 # You can replace this line!\n",
    "    return (x >0) and (y > 0) # replaced"
   ]
  },
  {
   "cell_type": "code",
   "execution_count": 6,
   "metadata": {},
   "outputs": [
    {
     "data": {
      "text/plain": [
       "True"
      ]
     },
     "execution_count": 6,
     "metadata": {},
     "output_type": "execute_result"
    }
   ],
   "source": [
    "both_positive(1,1)"
   ]
  },
  {
   "cell_type": "markdown",
   "metadata": {},
   "source": [
    "##### Q4: Sum Digits\n",
    "Write a function that takes in a nonnegative integer and sums its digits. (Using floor division and modulo might be helpful here!)"
   ]
  },
  {
   "cell_type": "code",
   "execution_count": 28,
   "metadata": {},
   "outputs": [],
   "source": [
    "def sum_digits(n):\n",
    "    \"\"\"Sum all the digits of n.\n",
    "\n",
    "    >>> sum_digits(10) # 1 + 0 = 1\n",
    "    1\n",
    "    >>> sum_digits(4224) # 4 + 2 + 2 + 4 = 12\n",
    "    12\n",
    "    >>> sum_digits(1234567890)\n",
    "    45\n",
    "    \"\"\"\n",
    "    \"*** YOUR CODE HERE ***\"\n",
    "    sum =0\n",
    "    \n",
    "    while n:\n",
    "        sum += n%10\n",
    "        n //=10\n",
    "        \n",
    "    return sum"
   ]
  },
  {
   "cell_type": "code",
   "execution_count": 25,
   "metadata": {},
   "outputs": [
    {
     "data": {
      "text/plain": [
       "0"
      ]
     },
     "execution_count": 25,
     "metadata": {},
     "output_type": "execute_result"
    }
   ],
   "source": [
    "1//10"
   ]
  },
  {
   "cell_type": "code",
   "execution_count": 31,
   "metadata": {},
   "outputs": [
    {
     "data": {
      "text/plain": [
       "12"
      ]
     },
     "execution_count": 31,
     "metadata": {},
     "output_type": "execute_result"
    }
   ],
   "source": [
    "sum_digits(4224)"
   ]
  },
  {
   "cell_type": "markdown",
   "metadata": {},
   "source": [
    "##### Q6: Falling Factorial\n",
    "Let's write a function falling, which is a \"falling\" factorial that takes two arguments,\n",
    "n and k, and returns the product of k consecutive numbers, starting from n and working downwards."
   ]
  },
  {
   "cell_type": "code",
   "execution_count": 32,
   "metadata": {},
   "outputs": [],
   "source": [
    "def falling(n, k):\n",
    "    \"\"\"Compute the falling factorial of n to depth k.\n",
    "\n",
    "    >>> falling(6, 3)  # 6 * 5 * 4\n",
    "    120\n",
    "    >>> falling(4, 0)\n",
    "    1\n",
    "    >>> falling(4, 3)  # 4 * 3 * 2\n",
    "    24\n",
    "    >>> falling(4, 1)  # 4\n",
    "    4\n",
    "    \"\"\"\n",
    "    \"*** YOUR CODE HERE ***\"\n",
    "    product =1\n",
    "    cnt =0\n",
    "    while cnt <k:\n",
    "        product *= (n-cnt)\n",
    "        cnt +=1\n",
    "    return product\n",
    "        "
   ]
  },
  {
   "cell_type": "code",
   "execution_count": 35,
   "metadata": {},
   "outputs": [
    {
     "data": {
      "text/plain": [
       "4"
      ]
     },
     "execution_count": 35,
     "metadata": {},
     "output_type": "execute_result"
    }
   ],
   "source": [
    "falling(4,1)"
   ]
  },
  {
   "cell_type": "markdown",
   "metadata": {},
   "source": [
    "##### Q7: Double Eights\n",
    "Write a function that takes in a number and determines if the digits contain two adjacent 8s"
   ]
  },
  {
   "cell_type": "code",
   "execution_count": 50,
   "metadata": {},
   "outputs": [],
   "source": [
    "def double_eights(n):\n",
    "    \"\"\"Return true if n has two eights in a row.\n",
    "    >>> double_eights(8)\n",
    "    False\n",
    "    >>> double_eights(88)\n",
    "    True\n",
    "    >>> double_eights(2882)\n",
    "    True\n",
    "    >>> double_eights(880088)\n",
    "    True\n",
    "    >>> double_eights(12345)\n",
    "    False\n",
    "    >>> double_eights(80808080)\n",
    "    False\n",
    "    \"\"\"\n",
    "    \"*** YOUR CODE HERE ***\"\n",
    "    pr =-1\n",
    "    cnt =1\n",
    "    pl =-1\n",
    "    while n:\n",
    "        print(n%10)\n",
    "        if n%10==8:\n",
    "            print('cnt = ',cnt)\n",
    "            pl = cnt\n",
    "            print('pl =',pl,'pr = ', pr)\n",
    "            if pl-pr ==1:\n",
    "                return True\n",
    "            else:\n",
    "                pr=pl    \n",
    "\n",
    "        cnt+=1\n",
    "        n//=10\n",
    "    \n",
    "    return False"
   ]
  },
  {
   "cell_type": "code",
   "execution_count": 52,
   "metadata": {},
   "outputs": [
    {
     "name": "stdout",
     "output_type": "stream",
     "text": [
      "0\n",
      "8\n",
      "cnt =  2\n",
      "pl = 2 pr =  -1\n",
      "0\n",
      "8\n",
      "cnt =  4\n",
      "pl = 4 pr =  2\n",
      "0\n",
      "8\n",
      "cnt =  6\n",
      "pl = 6 pr =  4\n"
     ]
    },
    {
     "data": {
      "text/plain": [
       "False"
      ]
     },
     "execution_count": 52,
     "metadata": {},
     "output_type": "execute_result"
    }
   ],
   "source": [
    "double_eights(808080)"
   ]
  }
 ],
 "metadata": {
  "kernelspec": {
   "display_name": "Python 3",
   "language": "python",
   "name": "python3"
  },
  "language_info": {
   "codemirror_mode": {
    "name": "ipython",
    "version": 3
   },
   "file_extension": ".py",
   "mimetype": "text/x-python",
   "name": "python",
   "nbconvert_exporter": "python",
   "pygments_lexer": "ipython3",
   "version": "3.6.5"
  }
 },
 "nbformat": 4,
 "nbformat_minor": 2
}
